{
 "cells": [
  {
   "cell_type": "code",
   "execution_count": 30,
   "metadata": {},
   "outputs": [],
   "source": [
    "import trimet_plan_game_helper_scripts as helpers\n",
    "import geopandas as gpd\n",
    "import boto3\n",
    "from shapely.geometry import LineString\n",
    "import pandas as pd\n",
    "import seaborn as sns"
   ]
  },
  {
   "cell_type": "code",
   "execution_count": 31,
   "metadata": {},
   "outputs": [],
   "source": [
    "tm_boundary = gpd.read_file(\"gis/export/tm_route_buffer_bounds.geojson\")\n",
    "trimet_crs = \"EPSG:2913\""
   ]
  },
  {
   "cell_type": "code",
   "execution_count": 32,
   "metadata": {},
   "outputs": [],
   "source": [
    "gdf_points, itineraries_reduced, itinerary_routes_reduced, tries = helpers.generate_random_points_make_itinerary(tm_boundary, trimet_crs)"
   ]
  },
  {
   "cell_type": "code",
   "execution_count": 33,
   "metadata": {},
   "outputs": [
    {
     "data": {
      "text/html": [
       "<div>\n",
       "<style scoped>\n",
       "    .dataframe tbody tr th:only-of-type {\n",
       "        vertical-align: middle;\n",
       "    }\n",
       "\n",
       "    .dataframe tbody tr th {\n",
       "        vertical-align: top;\n",
       "    }\n",
       "\n",
       "    .dataframe thead th {\n",
       "        text-align: right;\n",
       "    }\n",
       "</style>\n",
       "<table border=\"1\" class=\"dataframe\">\n",
       "  <thead>\n",
       "    <tr style=\"text-align: right;\">\n",
       "      <th></th>\n",
       "      <th>itin_idx</th>\n",
       "      <th>totalTime</th>\n",
       "      <th>walkTime</th>\n",
       "      <th>transitTime</th>\n",
       "      <th>waitingTime</th>\n",
       "      <th>walkDistance</th>\n",
       "      <th>leg_id</th>\n",
       "      <th>route_id</th>\n",
       "      <th>mode</th>\n",
       "      <th>fromStopCode</th>\n",
       "      <th>fromName</th>\n",
       "      <th>toStopCode</th>\n",
       "      <th>toName</th>\n",
       "      <th>legGeometry</th>\n",
       "      <th>route_length_deg</th>\n",
       "      <th>route_id_combo</th>\n",
       "    </tr>\n",
       "  </thead>\n",
       "  <tbody>\n",
       "    <tr>\n",
       "      <th>0</th>\n",
       "      <td>0</td>\n",
       "      <td>5351</td>\n",
       "      <td>1776</td>\n",
       "      <td>3322</td>\n",
       "      <td>253</td>\n",
       "      <td>2558.909881</td>\n",
       "      <td>0</td>\n",
       "      <td>WALK</td>\n",
       "      <td>WALK</td>\n",
       "      <td></td>\n",
       "      <td>Origin</td>\n",
       "      <td>913</td>\n",
       "      <td>SW Canyon &amp; 87th</td>\n",
       "      <td>LINESTRING (-122.76445 45.50085, -122.76439 45...</td>\n",
       "      <td>0.005868</td>\n",
       "      <td>58 to 44</td>\n",
       "    </tr>\n",
       "    <tr>\n",
       "      <th>1</th>\n",
       "      <td>0</td>\n",
       "      <td>5351</td>\n",
       "      <td>1776</td>\n",
       "      <td>3322</td>\n",
       "      <td>253</td>\n",
       "      <td>2558.909881</td>\n",
       "      <td>1</td>\n",
       "      <td>58</td>\n",
       "      <td>BUS</td>\n",
       "      <td>913</td>\n",
       "      <td>SW Canyon &amp; 87th</td>\n",
       "      <td>12793</td>\n",
       "      <td>SW Columbia between 6th &amp; 5th</td>\n",
       "      <td>LINESTRING (-122.76626 45.49819, -122.76607 45...</td>\n",
       "      <td>0.099323</td>\n",
       "      <td>58 to 44</td>\n",
       "    </tr>\n",
       "    <tr>\n",
       "      <th>2</th>\n",
       "      <td>0</td>\n",
       "      <td>5351</td>\n",
       "      <td>1776</td>\n",
       "      <td>3322</td>\n",
       "      <td>253</td>\n",
       "      <td>2558.909881</td>\n",
       "      <td>2</td>\n",
       "      <td>WALK</td>\n",
       "      <td>WALK</td>\n",
       "      <td>12793</td>\n",
       "      <td>SW Columbia between 6th &amp; 5th</td>\n",
       "      <td>11486</td>\n",
       "      <td>SW 6th &amp; Columbia</td>\n",
       "      <td>LINESTRING (-122.68066 45.51420, -122.68105 45...</td>\n",
       "      <td>0.000464</td>\n",
       "      <td>58 to 44</td>\n",
       "    </tr>\n",
       "  </tbody>\n",
       "</table>\n",
       "</div>"
      ],
      "text/plain": [
       "   itin_idx  totalTime  walkTime  transitTime  waitingTime  walkDistance  \\\n",
       "0         0       5351      1776         3322          253   2558.909881   \n",
       "1         0       5351      1776         3322          253   2558.909881   \n",
       "2         0       5351      1776         3322          253   2558.909881   \n",
       "\n",
       "   leg_id route_id  mode fromStopCode                       fromName  \\\n",
       "0       0     WALK  WALK                                      Origin   \n",
       "1       1       58   BUS          913               SW Canyon & 87th   \n",
       "2       2     WALK  WALK        12793  SW Columbia between 6th & 5th   \n",
       "\n",
       "  toStopCode                         toName  \\\n",
       "0        913               SW Canyon & 87th   \n",
       "1      12793  SW Columbia between 6th & 5th   \n",
       "2      11486              SW 6th & Columbia   \n",
       "\n",
       "                                         legGeometry  route_length_deg  \\\n",
       "0  LINESTRING (-122.76445 45.50085, -122.76439 45...          0.005868   \n",
       "1  LINESTRING (-122.76626 45.49819, -122.76607 45...          0.099323   \n",
       "2  LINESTRING (-122.68066 45.51420, -122.68105 45...          0.000464   \n",
       "\n",
       "  route_id_combo  \n",
       "0       58 to 44  \n",
       "1       58 to 44  \n",
       "2       58 to 44  "
      ]
     },
     "execution_count": 33,
     "metadata": {},
     "output_type": "execute_result"
    }
   ],
   "source": [
    "itineraries_reduced.head(3)"
   ]
  },
  {
   "cell_type": "code",
   "execution_count": 34,
   "metadata": {},
   "outputs": [
    {
     "data": {
      "text/html": [
       "<div>\n",
       "<style scoped>\n",
       "    .dataframe tbody tr th:only-of-type {\n",
       "        vertical-align: middle;\n",
       "    }\n",
       "\n",
       "    .dataframe tbody tr th {\n",
       "        vertical-align: top;\n",
       "    }\n",
       "\n",
       "    .dataframe thead th {\n",
       "        text-align: right;\n",
       "    }\n",
       "</style>\n",
       "<table border=\"1\" class=\"dataframe\">\n",
       "  <thead>\n",
       "    <tr style=\"text-align: right;\">\n",
       "      <th></th>\n",
       "      <th>itin_idx</th>\n",
       "      <th>totalTime</th>\n",
       "      <th>walkTime</th>\n",
       "      <th>transitTime</th>\n",
       "      <th>waitingTime</th>\n",
       "      <th>walkDistance</th>\n",
       "      <th>leg_id</th>\n",
       "      <th>route_id</th>\n",
       "      <th>mode</th>\n",
       "      <th>fromStopCode</th>\n",
       "      <th>fromName</th>\n",
       "      <th>toStopCode</th>\n",
       "      <th>toName</th>\n",
       "      <th>legGeometry</th>\n",
       "      <th>route_length_deg</th>\n",
       "      <th>route_id_combo</th>\n",
       "    </tr>\n",
       "  </thead>\n",
       "  <tbody>\n",
       "    <tr>\n",
       "      <th>1</th>\n",
       "      <td>0</td>\n",
       "      <td>5351</td>\n",
       "      <td>1776</td>\n",
       "      <td>3322</td>\n",
       "      <td>253</td>\n",
       "      <td>2558.909881</td>\n",
       "      <td>1</td>\n",
       "      <td>58</td>\n",
       "      <td>BUS</td>\n",
       "      <td>913</td>\n",
       "      <td>SW Canyon &amp; 87th</td>\n",
       "      <td>12793</td>\n",
       "      <td>SW Columbia between 6th &amp; 5th</td>\n",
       "      <td>LINESTRING (-122.76626 45.49819, -122.76607 45...</td>\n",
       "      <td>0.099323</td>\n",
       "      <td>58 to 44</td>\n",
       "    </tr>\n",
       "    <tr>\n",
       "      <th>3</th>\n",
       "      <td>0</td>\n",
       "      <td>5351</td>\n",
       "      <td>1776</td>\n",
       "      <td>3322</td>\n",
       "      <td>253</td>\n",
       "      <td>2558.909881</td>\n",
       "      <td>3</td>\n",
       "      <td>44</td>\n",
       "      <td>BUS</td>\n",
       "      <td>11486</td>\n",
       "      <td>SW 6th &amp; Columbia</td>\n",
       "      <td>6298</td>\n",
       "      <td>N Willamette &amp; Woolsey</td>\n",
       "      <td>LINESTRING (-122.68121 45.51429, -122.68115 45...</td>\n",
       "      <td>0.114430</td>\n",
       "      <td>58 to 44</td>\n",
       "    </tr>\n",
       "    <tr>\n",
       "      <th>8</th>\n",
       "      <td>1</td>\n",
       "      <td>5378</td>\n",
       "      <td>789</td>\n",
       "      <td>4295</td>\n",
       "      <td>294</td>\n",
       "      <td>866.941925</td>\n",
       "      <td>3</td>\n",
       "      <td>4</td>\n",
       "      <td>BUS</td>\n",
       "      <td>12791</td>\n",
       "      <td>SW Jefferson &amp; 5th</td>\n",
       "      <td>12725</td>\n",
       "      <td>N Fessenden &amp; Haven</td>\n",
       "      <td>LINESTRING (-122.67957 45.51474, -122.67965 45...</td>\n",
       "      <td>0.143625</td>\n",
       "      <td>58 to 4</td>\n",
       "    </tr>\n",
       "  </tbody>\n",
       "</table>\n",
       "</div>"
      ],
      "text/plain": [
       "   itin_idx  totalTime  walkTime  transitTime  waitingTime  walkDistance  \\\n",
       "1         0       5351      1776         3322          253   2558.909881   \n",
       "3         0       5351      1776         3322          253   2558.909881   \n",
       "8         1       5378       789         4295          294    866.941925   \n",
       "\n",
       "   leg_id route_id mode fromStopCode            fromName toStopCode  \\\n",
       "1       1       58  BUS          913    SW Canyon & 87th      12793   \n",
       "3       3       44  BUS        11486   SW 6th & Columbia       6298   \n",
       "8       3        4  BUS        12791  SW Jefferson & 5th      12725   \n",
       "\n",
       "                          toName  \\\n",
       "1  SW Columbia between 6th & 5th   \n",
       "3         N Willamette & Woolsey   \n",
       "8            N Fessenden & Haven   \n",
       "\n",
       "                                         legGeometry  route_length_deg  \\\n",
       "1  LINESTRING (-122.76626 45.49819, -122.76607 45...          0.099323   \n",
       "3  LINESTRING (-122.68121 45.51429, -122.68115 45...          0.114430   \n",
       "8  LINESTRING (-122.67957 45.51474, -122.67965 45...          0.143625   \n",
       "\n",
       "  route_id_combo  \n",
       "1       58 to 44  \n",
       "3       58 to 44  \n",
       "8        58 to 4  "
      ]
     },
     "execution_count": 34,
     "metadata": {},
     "output_type": "execute_result"
    }
   ],
   "source": [
    "itinerary_routes_reduced"
   ]
  },
  {
   "cell_type": "code",
   "execution_count": 35,
   "metadata": {},
   "outputs": [],
   "source": [
    "itinerary_routes_reduced['route_id'] = itinerary_routes_reduced['route_id'].astype(int)"
   ]
  },
  {
   "cell_type": "code",
   "execution_count": 36,
   "metadata": {},
   "outputs": [
    {
     "data": {
      "text/html": [
       "<div>\n",
       "<style scoped>\n",
       "    .dataframe tbody tr th:only-of-type {\n",
       "        vertical-align: middle;\n",
       "    }\n",
       "\n",
       "    .dataframe tbody tr th {\n",
       "        vertical-align: top;\n",
       "    }\n",
       "\n",
       "    .dataframe thead th {\n",
       "        text-align: right;\n",
       "    }\n",
       "</style>\n",
       "<table border=\"1\" class=\"dataframe\">\n",
       "  <thead>\n",
       "    <tr style=\"text-align: right;\">\n",
       "      <th></th>\n",
       "      <th>route_id</th>\n",
       "      <th>agency_id</th>\n",
       "      <th>route_short_name</th>\n",
       "      <th>route_long_name</th>\n",
       "      <th>route_type</th>\n",
       "      <th>route_url</th>\n",
       "      <th>route_color</th>\n",
       "      <th>route_text_color</th>\n",
       "      <th>route_sort_order</th>\n",
       "    </tr>\n",
       "  </thead>\n",
       "  <tbody>\n",
       "    <tr>\n",
       "      <th>0</th>\n",
       "      <td>1</td>\n",
       "      <td>TRIMET</td>\n",
       "      <td>1</td>\n",
       "      <td>Vermont</td>\n",
       "      <td>3</td>\n",
       "      <td>https://trimet.org/schedules/r001.htm</td>\n",
       "      <td>NaN</td>\n",
       "      <td>NaN</td>\n",
       "      <td>400</td>\n",
       "    </tr>\n",
       "    <tr>\n",
       "      <th>1</th>\n",
       "      <td>2</td>\n",
       "      <td>TRIMET</td>\n",
       "      <td>FX2</td>\n",
       "      <td>Division</td>\n",
       "      <td>3</td>\n",
       "      <td>https://trimet.org/schedules/r002.htm</td>\n",
       "      <td>61A60E</td>\n",
       "      <td>FFFFFF</td>\n",
       "      <td>500</td>\n",
       "    </tr>\n",
       "  </tbody>\n",
       "</table>\n",
       "</div>"
      ],
      "text/plain": [
       "   route_id agency_id route_short_name route_long_name  route_type  \\\n",
       "0         1    TRIMET                1         Vermont           3   \n",
       "1         2    TRIMET              FX2        Division           3   \n",
       "\n",
       "                               route_url route_color route_text_color  \\\n",
       "0  https://trimet.org/schedules/r001.htm         NaN              NaN   \n",
       "1  https://trimet.org/schedules/r002.htm      61A60E           FFFFFF   \n",
       "\n",
       "   route_sort_order  \n",
       "0               400  \n",
       "1               500  "
      ]
     },
     "execution_count": 36,
     "metadata": {},
     "output_type": "execute_result"
    }
   ],
   "source": [
    "gtfs_routes = pd.read_csv(\"gtfs/routes.txt\")\n",
    "gtfs_routes.head(2)"
   ]
  },
  {
   "cell_type": "code",
   "execution_count": 37,
   "metadata": {},
   "outputs": [],
   "source": [
    "itinerary_routes_long_name = itinerary_routes_reduced.merge(gtfs_routes[['route_id','route_long_name']], how='inner', on='route_id')"
   ]
  },
  {
   "cell_type": "code",
   "execution_count": 38,
   "metadata": {},
   "outputs": [],
   "source": [
    "# Get Unique continents\n",
    "color_labels = itinerary_routes_long_name['route_id'].unique()\n",
    "# List of colors in the color palettes\n",
    "hex_values = sns.color_palette(\"Set2\", len(color_labels)).as_hex()\n",
    "# Map continents to the colors\n",
    "color_map = dict(zip(color_labels, hex_values))\n",
    "color_map['WALK'] = '#bf5f58'"
   ]
  },
  {
   "cell_type": "code",
   "execution_count": 39,
   "metadata": {},
   "outputs": [],
   "source": [
    "color_map_str = {str(item[0]):item[1] for item in color_map.items()}"
   ]
  },
  {
   "cell_type": "code",
   "execution_count": 40,
   "metadata": {},
   "outputs": [
    {
     "data": {
      "text/plain": [
       "dict_items([(58, '#66c2a5'), (44, '#fc8d62'), (4, '#8da0cb'), ('WALK', '#bf5f58')])"
      ]
     },
     "execution_count": 40,
     "metadata": {},
     "output_type": "execute_result"
    }
   ],
   "source": [
    "color_map.items()"
   ]
  },
  {
   "cell_type": "code",
   "execution_count": 41,
   "metadata": {},
   "outputs": [],
   "source": [
    "itinerary_routes_long_name['route_color'] = itinerary_routes_long_name['route_id'].apply(lambda x: color_map[x])"
   ]
  },
  {
   "cell_type": "code",
   "execution_count": 42,
   "metadata": {},
   "outputs": [],
   "source": [
    "itinerary_routes_long_name['dropdown_route'] = itinerary_routes_long_name.apply(lambda x: str(x['route_id'])+\" - \"+str(x['route_long_name']), axis=1)"
   ]
  },
  {
   "cell_type": "code",
   "execution_count": 43,
   "metadata": {},
   "outputs": [],
   "source": [
    "itineraries_reduced_with_long_name = itineraries_reduced.merge(gtfs_routes[['route_id','route_long_name']].astype(str), how='left', on='route_id')"
   ]
  },
  {
   "cell_type": "code",
   "execution_count": 44,
   "metadata": {},
   "outputs": [
    {
     "data": {
      "text/html": [
       "<div>\n",
       "<style scoped>\n",
       "    .dataframe tbody tr th:only-of-type {\n",
       "        vertical-align: middle;\n",
       "    }\n",
       "\n",
       "    .dataframe tbody tr th {\n",
       "        vertical-align: top;\n",
       "    }\n",
       "\n",
       "    .dataframe thead th {\n",
       "        text-align: right;\n",
       "    }\n",
       "</style>\n",
       "<table border=\"1\" class=\"dataframe\">\n",
       "  <thead>\n",
       "    <tr style=\"text-align: right;\">\n",
       "      <th></th>\n",
       "      <th>itin_idx</th>\n",
       "      <th>totalTime</th>\n",
       "      <th>walkTime</th>\n",
       "      <th>transitTime</th>\n",
       "      <th>waitingTime</th>\n",
       "      <th>walkDistance</th>\n",
       "      <th>leg_id</th>\n",
       "      <th>route_id</th>\n",
       "      <th>mode</th>\n",
       "      <th>fromStopCode</th>\n",
       "      <th>fromName</th>\n",
       "      <th>toStopCode</th>\n",
       "      <th>toName</th>\n",
       "      <th>legGeometry</th>\n",
       "      <th>route_length_deg</th>\n",
       "      <th>route_id_combo</th>\n",
       "      <th>route_long_name</th>\n",
       "    </tr>\n",
       "  </thead>\n",
       "  <tbody>\n",
       "    <tr>\n",
       "      <th>0</th>\n",
       "      <td>0</td>\n",
       "      <td>5351</td>\n",
       "      <td>1776</td>\n",
       "      <td>3322</td>\n",
       "      <td>253</td>\n",
       "      <td>2558.909881</td>\n",
       "      <td>0</td>\n",
       "      <td>WALK</td>\n",
       "      <td>WALK</td>\n",
       "      <td></td>\n",
       "      <td>Origin</td>\n",
       "      <td>913</td>\n",
       "      <td>SW Canyon &amp; 87th</td>\n",
       "      <td>LINESTRING (-122.76445 45.50085, -122.76439 45...</td>\n",
       "      <td>0.005868</td>\n",
       "      <td>58 to 44</td>\n",
       "      <td>NaN</td>\n",
       "    </tr>\n",
       "    <tr>\n",
       "      <th>1</th>\n",
       "      <td>0</td>\n",
       "      <td>5351</td>\n",
       "      <td>1776</td>\n",
       "      <td>3322</td>\n",
       "      <td>253</td>\n",
       "      <td>2558.909881</td>\n",
       "      <td>1</td>\n",
       "      <td>58</td>\n",
       "      <td>BUS</td>\n",
       "      <td>913</td>\n",
       "      <td>SW Canyon &amp; 87th</td>\n",
       "      <td>12793</td>\n",
       "      <td>SW Columbia between 6th &amp; 5th</td>\n",
       "      <td>LINESTRING (-122.76626 45.49819, -122.76607 45...</td>\n",
       "      <td>0.099323</td>\n",
       "      <td>58 to 44</td>\n",
       "      <td>Canyon Rd</td>\n",
       "    </tr>\n",
       "    <tr>\n",
       "      <th>2</th>\n",
       "      <td>0</td>\n",
       "      <td>5351</td>\n",
       "      <td>1776</td>\n",
       "      <td>3322</td>\n",
       "      <td>253</td>\n",
       "      <td>2558.909881</td>\n",
       "      <td>2</td>\n",
       "      <td>WALK</td>\n",
       "      <td>WALK</td>\n",
       "      <td>12793</td>\n",
       "      <td>SW Columbia between 6th &amp; 5th</td>\n",
       "      <td>11486</td>\n",
       "      <td>SW 6th &amp; Columbia</td>\n",
       "      <td>LINESTRING (-122.68066 45.51420, -122.68105 45...</td>\n",
       "      <td>0.000464</td>\n",
       "      <td>58 to 44</td>\n",
       "      <td>NaN</td>\n",
       "    </tr>\n",
       "  </tbody>\n",
       "</table>\n",
       "</div>"
      ],
      "text/plain": [
       "   itin_idx  totalTime  walkTime  transitTime  waitingTime  walkDistance  \\\n",
       "0         0       5351      1776         3322          253   2558.909881   \n",
       "1         0       5351      1776         3322          253   2558.909881   \n",
       "2         0       5351      1776         3322          253   2558.909881   \n",
       "\n",
       "   leg_id route_id  mode fromStopCode                       fromName  \\\n",
       "0       0     WALK  WALK                                      Origin   \n",
       "1       1       58   BUS          913               SW Canyon & 87th   \n",
       "2       2     WALK  WALK        12793  SW Columbia between 6th & 5th   \n",
       "\n",
       "  toStopCode                         toName  \\\n",
       "0        913               SW Canyon & 87th   \n",
       "1      12793  SW Columbia between 6th & 5th   \n",
       "2      11486              SW 6th & Columbia   \n",
       "\n",
       "                                         legGeometry  route_length_deg  \\\n",
       "0  LINESTRING (-122.76445 45.50085, -122.76439 45...          0.005868   \n",
       "1  LINESTRING (-122.76626 45.49819, -122.76607 45...          0.099323   \n",
       "2  LINESTRING (-122.68066 45.51420, -122.68105 45...          0.000464   \n",
       "\n",
       "  route_id_combo route_long_name  \n",
       "0       58 to 44             NaN  \n",
       "1       58 to 44       Canyon Rd  \n",
       "2       58 to 44             NaN  "
      ]
     },
     "execution_count": 44,
     "metadata": {},
     "output_type": "execute_result"
    }
   ],
   "source": [
    "itineraries_reduced_with_long_name.head(3)"
   ]
  },
  {
   "cell_type": "code",
   "execution_count": 45,
   "metadata": {},
   "outputs": [],
   "source": [
    "itineraries_reduced_with_long_name['route_long_name'] = itineraries_reduced_with_long_name['route_long_name'].fillna(value='WALK')"
   ]
  },
  {
   "cell_type": "code",
   "execution_count": 46,
   "metadata": {},
   "outputs": [],
   "source": [
    "itineraries_reduced_with_long_name['dropdown_route'] = itineraries_reduced_with_long_name.apply(lambda x: str(x['route_id'])+\" - \"+str(x['route_long_name']), axis=1)"
   ]
  },
  {
   "cell_type": "code",
   "execution_count": 47,
   "metadata": {},
   "outputs": [],
   "source": [
    "itineraries_reduced_with_long_name['route_color'] = itineraries_reduced_with_long_name['route_id'].apply(lambda x: color_map_str[x])"
   ]
  },
  {
   "cell_type": "code",
   "execution_count": 48,
   "metadata": {},
   "outputs": [],
   "source": [
    "gdf_points.to_file(\"gis/export/origin_destination_points.geojson\", driver=\"GeoJSON\")\n",
    "client = boto3.client(\"s3\")\n",
    "client.upload_file(\"gis/export/origin_destination_points.geojson\", \"meysohn-sandbox\", \"trimet_trip_planner/origin_destination_points.geojson\",ExtraArgs={'ACL':'public-read'})"
   ]
  },
  {
   "cell_type": "code",
   "execution_count": 49,
   "metadata": {},
   "outputs": [],
   "source": [
    "itineraries_reduced_with_long_name.to_file(\"gis/export/itineraries_reduced_with_long_name.geojson\", driver=\"GeoJSON\")\n",
    "client = boto3.client(\"s3\")\n",
    "client.upload_file(\"gis/export/itineraries_reduced_with_long_name.geojson\", \"meysohn-sandbox\", \"trimet_trip_planner/itineraries_reduced_with_long_name.geojson\",ExtraArgs={'ACL':'public-read'})"
   ]
  },
  {
   "cell_type": "code",
   "execution_count": 50,
   "metadata": {},
   "outputs": [],
   "source": [
    "itinerary_routes_long_name.to_file(\"gis/export/itinerary_routes_long_name.geojson\", driver=\"GeoJSON\")\n",
    "client = boto3.client(\"s3\")\n",
    "client.upload_file(\"gis/export/itinerary_routes_long_name.geojson\", \"meysohn-sandbox\", \"trimet_trip_planner/itinerary_routes_long_name.geojson\",ExtraArgs={'ACL':'public-read'})"
   ]
  },
  {
   "cell_type": "code",
   "execution_count": 51,
   "metadata": {},
   "outputs": [],
   "source": [
    "origin_destination_centriod = LineString(list(gdf_points['points'].to_numpy())).centroid"
   ]
  },
  {
   "cell_type": "code",
   "execution_count": 52,
   "metadata": {},
   "outputs": [
    {
     "data": {
      "text/html": [
       "<div>\n",
       "<style scoped>\n",
       "    .dataframe tbody tr th:only-of-type {\n",
       "        vertical-align: middle;\n",
       "    }\n",
       "\n",
       "    .dataframe tbody tr th {\n",
       "        vertical-align: top;\n",
       "    }\n",
       "\n",
       "    .dataframe thead th {\n",
       "        text-align: right;\n",
       "    }\n",
       "</style>\n",
       "<table border=\"1\" class=\"dataframe\">\n",
       "  <thead>\n",
       "    <tr style=\"text-align: right;\">\n",
       "      <th></th>\n",
       "      <th>id</th>\n",
       "      <th>geometry</th>\n",
       "    </tr>\n",
       "  </thead>\n",
       "  <tbody>\n",
       "    <tr>\n",
       "      <th>0</th>\n",
       "      <td>origin_dest_centroid</td>\n",
       "      <td>POINT (-122.74106 45.54537)</td>\n",
       "    </tr>\n",
       "  </tbody>\n",
       "</table>\n",
       "</div>"
      ],
      "text/plain": [
       "                     id                     geometry\n",
       "0  origin_dest_centroid  POINT (-122.74106 45.54537)"
      ]
     },
     "execution_count": 52,
     "metadata": {},
     "output_type": "execute_result"
    }
   ],
   "source": [
    "origin_destination_centriod_gdf = gpd.GeoDataFrame(pd.DataFrame(['origin_dest_centroid'], columns=['id']),crs=\"EPSG:4326\", geometry=[origin_destination_centriod])\n",
    "origin_destination_centriod_gdf"
   ]
  },
  {
   "cell_type": "code",
   "execution_count": 53,
   "metadata": {},
   "outputs": [],
   "source": [
    "origin_destination_centriod_gdf.to_file(\"gis/export/origin_destination_centriod.geojson\", driver=\"GeoJSON\")\n",
    "client = boto3.client(\"s3\")\n",
    "client.upload_file(\"gis/export/origin_destination_centriod.geojson\", \"meysohn-sandbox\", \"trimet_trip_planner/origin_destination_centriod.geojson\",ExtraArgs={'ACL':'public-read'})"
   ]
  },
  {
   "cell_type": "code",
   "execution_count": null,
   "metadata": {},
   "outputs": [],
   "source": []
  },
  {
   "cell_type": "code",
   "execution_count": null,
   "metadata": {},
   "outputs": [],
   "source": []
  }
 ],
 "metadata": {
  "kernelspec": {
   "display_name": "twitter-news",
   "language": "python",
   "name": "python3"
  },
  "language_info": {
   "codemirror_mode": {
    "name": "ipython",
    "version": 3
   },
   "file_extension": ".py",
   "mimetype": "text/x-python",
   "name": "python",
   "nbconvert_exporter": "python",
   "pygments_lexer": "ipython3",
   "version": "3.10.6"
  },
  "orig_nbformat": 4
 },
 "nbformat": 4,
 "nbformat_minor": 2
}
