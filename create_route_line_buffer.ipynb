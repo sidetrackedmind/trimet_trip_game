{
 "cells": [
  {
   "cell_type": "code",
   "execution_count": null,
   "metadata": {},
   "outputs": [],
   "source": [
    "import geopandas as gpd\n",
    "import pandas as pd"
   ]
  },
  {
   "cell_type": "code",
   "execution_count": 2,
   "metadata": {},
   "outputs": [
    {
     "data": {
      "text/html": [
       "<div>\n",
       "<style scoped>\n",
       "    .dataframe tbody tr th:only-of-type {\n",
       "        vertical-align: middle;\n",
       "    }\n",
       "\n",
       "    .dataframe tbody tr th {\n",
       "        vertical-align: top;\n",
       "    }\n",
       "\n",
       "    .dataframe thead th {\n",
       "        text-align: right;\n",
       "    }\n",
       "</style>\n",
       "<table border=\"1\" class=\"dataframe\">\n",
       "  <thead>\n",
       "    <tr style=\"text-align: right;\">\n",
       "      <th></th>\n",
       "      <th>rte</th>\n",
       "      <th>dir</th>\n",
       "      <th>rte_desc</th>\n",
       "      <th>public_rte</th>\n",
       "      <th>dir_desc</th>\n",
       "      <th>frequent</th>\n",
       "      <th>type</th>\n",
       "      <th>rte_dir</th>\n",
       "      <th>geometry</th>\n",
       "    </tr>\n",
       "  </thead>\n",
       "  <tbody>\n",
       "    <tr>\n",
       "      <th>0</th>\n",
       "      <td>1</td>\n",
       "      <td>0</td>\n",
       "      <td>Vermont</td>\n",
       "      <td>1</td>\n",
       "      <td>To Vermont &amp; Shattuck and Maplewood</td>\n",
       "      <td>False</td>\n",
       "      <td>BUS</td>\n",
       "      <td>1_0</td>\n",
       "      <td>LINESTRING (-122.67740 45.52288, -122.67741 45...</td>\n",
       "    </tr>\n",
       "    <tr>\n",
       "      <th>1</th>\n",
       "      <td>1</td>\n",
       "      <td>1</td>\n",
       "      <td>Vermont</td>\n",
       "      <td>1</td>\n",
       "      <td>To Portland City Center</td>\n",
       "      <td>False</td>\n",
       "      <td>BUS</td>\n",
       "      <td>1_1</td>\n",
       "      <td>LINESTRING (-122.72190 45.47624, -122.72237 45...</td>\n",
       "    </tr>\n",
       "    <tr>\n",
       "      <th>2</th>\n",
       "      <td>2</td>\n",
       "      <td>0</td>\n",
       "      <td>Division</td>\n",
       "      <td>FX2</td>\n",
       "      <td>To Gresham</td>\n",
       "      <td>True</td>\n",
       "      <td>BUS</td>\n",
       "      <td>2_0</td>\n",
       "      <td>MULTILINESTRING ((-122.68003 45.51427, -122.68...</td>\n",
       "    </tr>\n",
       "  </tbody>\n",
       "</table>\n",
       "</div>"
      ],
      "text/plain": [
       "   rte  dir  rte_desc public_rte                             dir_desc  \\\n",
       "0    1    0   Vermont          1  To Vermont & Shattuck and Maplewood   \n",
       "1    1    1   Vermont          1              To Portland City Center   \n",
       "2    2    0  Division        FX2                           To Gresham   \n",
       "\n",
       "  frequent type rte_dir                                           geometry  \n",
       "0    False  BUS     1_0  LINESTRING (-122.67740 45.52288, -122.67741 45...  \n",
       "1    False  BUS     1_1  LINESTRING (-122.72190 45.47624, -122.72237 45...  \n",
       "2     True  BUS     2_0  MULTILINESTRING ((-122.68003 45.51427, -122.68...  "
      ]
     },
     "execution_count": 2,
     "metadata": {},
     "output_type": "execute_result"
    }
   ],
   "source": [
    "tm_routes = gpd.read_file(\"gis/export/tm_routes_simplified.geojson\")\n",
    "tm_routes.head(3)"
   ]
  },
  {
   "cell_type": "code",
   "execution_count": 3,
   "metadata": {},
   "outputs": [],
   "source": [
    "tm_routes_proj = tm_routes.to_crs(\"EPSG:2913\")"
   ]
  },
  {
   "cell_type": "code",
   "execution_count": 4,
   "metadata": {},
   "outputs": [],
   "source": [
    "tm_routes_buffer = tm_routes_proj.unary_union.buffer(5280/2)"
   ]
  },
  {
   "cell_type": "code",
   "execution_count": null,
   "metadata": {},
   "outputs": [],
   "source": [
    "# tm_route_boundaries = \n",
    "pd.DataFrame([['trimet_route_buffere_boundary']],columns=['description'])"
   ]
  }
 ],
 "metadata": {
  "kernelspec": {
   "display_name": "mv-pandas",
   "language": "python",
   "name": "python3"
  },
  "language_info": {
   "codemirror_mode": {
    "name": "ipython",
    "version": 3
   },
   "file_extension": ".py",
   "mimetype": "text/x-python",
   "name": "python",
   "nbconvert_exporter": "python",
   "pygments_lexer": "ipython3",
   "version": "3.10.6"
  },
  "orig_nbformat": 4
 },
 "nbformat": 4,
 "nbformat_minor": 2
}
