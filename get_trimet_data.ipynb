{
 "cells": [
  {
   "cell_type": "code",
   "execution_count": 1,
   "metadata": {},
   "outputs": [],
   "source": [
    "from io import BytesIO\n",
    "from zipfile import ZipFile\n",
    "from urllib.request import urlopen\n",
    "import geopandas as gpd\n",
    "from io import StringIO\n",
    "# or: requests.get(url).content\n",
    "\n",
    "resp = urlopen(\"https://developer.trimet.org/gis/data/tm_boundary.zip\")\n",
    "myzip = ZipFile(BytesIO(resp.read()))\n",
    "myzip.extractall('gis/export/')"
   ]
  },
  {
   "cell_type": "code",
   "execution_count": 2,
   "metadata": {},
   "outputs": [],
   "source": [
    "resp = urlopen(\"https://developer.trimet.org/schedule/gtfs.zip\")\n",
    "myzip = ZipFile(BytesIO(resp.read()))\n",
    "myzip.extractall('gtfs/')"
   ]
  },
  {
   "cell_type": "code",
   "execution_count": null,
   "metadata": {},
   "outputs": [],
   "source": []
  }
 ],
 "metadata": {
  "kernelspec": {
   "display_name": "geo-analysis",
   "language": "python",
   "name": "python3"
  },
  "language_info": {
   "codemirror_mode": {
    "name": "ipython",
    "version": 3
   },
   "file_extension": ".py",
   "mimetype": "text/x-python",
   "name": "python",
   "nbconvert_exporter": "python",
   "pygments_lexer": "ipython3",
   "version": "3.10.6"
  },
  "orig_nbformat": 4
 },
 "nbformat": 4,
 "nbformat_minor": 2
}
