{
 "cells": [
  {
   "cell_type": "code",
   "execution_count": 1,
   "metadata": {},
   "outputs": [
    {
     "name": "stderr",
     "output_type": "stream",
     "text": [
      "C:\\Users\\meysohnb\\AppData\\Local\\Temp\\ipykernel_11616\\3647576917.py:4: UserWarning: Shapely 2.0 is installed, but because PyGEOS is also installed, GeoPandas will still use PyGEOS by default for now. To force to use and test Shapely 2.0, you have to set the environment variable USE_PYGEOS=0. You can do this before starting the Python process, or in your code before importing geopandas:\n",
      "\n",
      "import os\n",
      "os.environ['USE_PYGEOS'] = '0'\n",
      "import geopandas\n",
      "\n",
      "In a future release, GeoPandas will switch to using Shapely by default. If you are using PyGEOS directly (calling PyGEOS functions on geometries from GeoPandas), this will then stop working and you are encouraged to migrate from PyGEOS to Shapely 2.0 (https://shapely.readthedocs.io/en/latest/migration_pygeos.html).\n",
      "  import geopandas as gpd\n"
     ]
    }
   ],
   "source": [
    "from io import BytesIO\n",
    "from zipfile import ZipFile\n",
    "from urllib.request import urlopen\n",
    "import geopandas as gpd\n",
    "from io import StringIO\n",
    "# or: requests.get(url).content\n",
    "\n",
    "resp = urlopen(\"https://developer.trimet.org/gis/data/tm_boundary.zip\")\n",
    "myzip = ZipFile(BytesIO(resp.read()))\n",
    "myzip.extractall('gis/export/')"
   ]
  },
  {
   "cell_type": "code",
   "execution_count": 2,
   "metadata": {},
   "outputs": [],
   "source": [
    "resp = urlopen(\"https://developer.trimet.org/schedule/gtfs.zip\")\n",
    "myzip = ZipFile(BytesIO(resp.read()))\n",
    "myzip.extractall('gtfs/')"
   ]
  },
  {
   "cell_type": "code",
   "execution_count": 2,
   "metadata": {},
   "outputs": [],
   "source": [
    "import boto3\n",
    "import pandas as pd"
   ]
  },
  {
   "cell_type": "code",
   "execution_count": 3,
   "metadata": {},
   "outputs": [
    {
     "data": {
      "text/html": [
       "<div>\n",
       "<style scoped>\n",
       "    .dataframe tbody tr th:only-of-type {\n",
       "        vertical-align: middle;\n",
       "    }\n",
       "\n",
       "    .dataframe tbody tr th {\n",
       "        vertical-align: top;\n",
       "    }\n",
       "\n",
       "    .dataframe thead th {\n",
       "        text-align: right;\n",
       "    }\n",
       "</style>\n",
       "<table border=\"1\" class=\"dataframe\">\n",
       "  <thead>\n",
       "    <tr style=\"text-align: right;\">\n",
       "      <th></th>\n",
       "      <th>route_id</th>\n",
       "      <th>agency_id</th>\n",
       "      <th>route_short_name</th>\n",
       "      <th>route_long_name</th>\n",
       "      <th>route_type</th>\n",
       "      <th>route_url</th>\n",
       "      <th>route_color</th>\n",
       "      <th>route_text_color</th>\n",
       "      <th>route_sort_order</th>\n",
       "    </tr>\n",
       "  </thead>\n",
       "  <tbody>\n",
       "    <tr>\n",
       "      <th>0</th>\n",
       "      <td>1</td>\n",
       "      <td>TRIMET</td>\n",
       "      <td>1</td>\n",
       "      <td>Vermont</td>\n",
       "      <td>3</td>\n",
       "      <td>https://trimet.org/schedules/r001.htm</td>\n",
       "      <td>NaN</td>\n",
       "      <td>NaN</td>\n",
       "      <td>400</td>\n",
       "    </tr>\n",
       "    <tr>\n",
       "      <th>1</th>\n",
       "      <td>2</td>\n",
       "      <td>TRIMET</td>\n",
       "      <td>FX2</td>\n",
       "      <td>Division</td>\n",
       "      <td>3</td>\n",
       "      <td>https://trimet.org/schedules/r002.htm</td>\n",
       "      <td>61A60E</td>\n",
       "      <td>FFFFFF</td>\n",
       "      <td>500</td>\n",
       "    </tr>\n",
       "    <tr>\n",
       "      <th>2</th>\n",
       "      <td>4</td>\n",
       "      <td>TRIMET</td>\n",
       "      <td>4</td>\n",
       "      <td>Fessenden</td>\n",
       "      <td>3</td>\n",
       "      <td>https://trimet.org/schedules/r004.htm</td>\n",
       "      <td>NaN</td>\n",
       "      <td>NaN</td>\n",
       "      <td>600</td>\n",
       "    </tr>\n",
       "  </tbody>\n",
       "</table>\n",
       "</div>"
      ],
      "text/plain": [
       "   route_id agency_id route_short_name route_long_name  route_type  \\\n",
       "0         1    TRIMET                1         Vermont           3   \n",
       "1         2    TRIMET              FX2        Division           3   \n",
       "2         4    TRIMET                4       Fessenden           3   \n",
       "\n",
       "                               route_url route_color route_text_color  \\\n",
       "0  https://trimet.org/schedules/r001.htm         NaN              NaN   \n",
       "1  https://trimet.org/schedules/r002.htm      61A60E           FFFFFF   \n",
       "2  https://trimet.org/schedules/r004.htm         NaN              NaN   \n",
       "\n",
       "   route_sort_order  \n",
       "0               400  \n",
       "1               500  \n",
       "2               600  "
      ]
     },
     "execution_count": 3,
     "metadata": {},
     "output_type": "execute_result"
    }
   ],
   "source": [
    "gtfs_routes = pd.read_csv('gtfs/routes.txt')\n",
    "gtfs_routes.head(3)"
   ]
  },
  {
   "cell_type": "code",
   "execution_count": 9,
   "metadata": {},
   "outputs": [],
   "source": [
    "gtfs_routes[['route_id','route_short_name','route_long_name']].to_json('gtfs/gtfs_routes.json',orient='records')"
   ]
  },
  {
   "cell_type": "code",
   "execution_count": 10,
   "metadata": {},
   "outputs": [],
   "source": [
    "client = boto3.client(\"s3\")\n",
    "client.upload_file(\"gtfs/gtfs_routes.json\", \"meysohn-sandbox\", \"trimet_trip_planner/gtfs_routes.json\",ExtraArgs={'ACL':'public-read'})"
   ]
  },
  {
   "cell_type": "code",
   "execution_count": null,
   "metadata": {},
   "outputs": [],
   "source": []
  }
 ],
 "metadata": {
  "kernelspec": {
   "display_name": "geo-analysis",
   "language": "python",
   "name": "python3"
  },
  "language_info": {
   "codemirror_mode": {
    "name": "ipython",
    "version": 3
   },
   "file_extension": ".py",
   "mimetype": "text/x-python",
   "name": "python",
   "nbconvert_exporter": "python",
   "pygments_lexer": "ipython3",
   "version": "3.10.6"
  },
  "orig_nbformat": 4
 },
 "nbformat": 4,
 "nbformat_minor": 2
}
