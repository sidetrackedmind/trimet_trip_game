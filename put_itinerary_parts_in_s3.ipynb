{
 "cells": [
  {
   "cell_type": "code",
   "execution_count": 23,
   "metadata": {},
   "outputs": [],
   "source": [
    "import trimet_plan_game_helper_scripts as helpers\n",
    "import geopandas as gpd\n",
    "import boto3\n",
    "from shapely.geometry import LineString\n",
    "import pandas as pd\n",
    "import seaborn as sns"
   ]
  },
  {
   "cell_type": "code",
   "execution_count": 2,
   "metadata": {},
   "outputs": [],
   "source": [
    "tm_boundary = gpd.read_file(\"gis/export/tm_route_buffer_bounds.geojson\")\n",
    "trimet_crs = \"EPSG:2913\""
   ]
  },
  {
   "cell_type": "code",
   "execution_count": 3,
   "metadata": {},
   "outputs": [],
   "source": [
    "gdf_points, itineraries_reduced, itinerary_routes_reduced, tries = helpers.generate_random_points_make_itinerary(tm_boundary, trimet_crs)"
   ]
  },
  {
   "cell_type": "code",
   "execution_count": 6,
   "metadata": {},
   "outputs": [
    {
     "data": {
      "text/html": [
       "<div>\n",
       "<style scoped>\n",
       "    .dataframe tbody tr th:only-of-type {\n",
       "        vertical-align: middle;\n",
       "    }\n",
       "\n",
       "    .dataframe tbody tr th {\n",
       "        vertical-align: top;\n",
       "    }\n",
       "\n",
       "    .dataframe thead th {\n",
       "        text-align: right;\n",
       "    }\n",
       "</style>\n",
       "<table border=\"1\" class=\"dataframe\">\n",
       "  <thead>\n",
       "    <tr style=\"text-align: right;\">\n",
       "      <th></th>\n",
       "      <th>itin_idx</th>\n",
       "      <th>totalTime</th>\n",
       "      <th>walkTime</th>\n",
       "      <th>transitTime</th>\n",
       "      <th>waitingTime</th>\n",
       "      <th>walkDistance</th>\n",
       "      <th>leg_id</th>\n",
       "      <th>route_id</th>\n",
       "      <th>mode</th>\n",
       "      <th>fromStopCode</th>\n",
       "      <th>fromName</th>\n",
       "      <th>toStopCode</th>\n",
       "      <th>toName</th>\n",
       "      <th>legGeometry</th>\n",
       "      <th>route_id_combo</th>\n",
       "    </tr>\n",
       "  </thead>\n",
       "  <tbody>\n",
       "    <tr>\n",
       "      <th>1</th>\n",
       "      <td>0</td>\n",
       "      <td>4785</td>\n",
       "      <td>1426</td>\n",
       "      <td>2352</td>\n",
       "      <td>1007</td>\n",
       "      <td>1996.076433</td>\n",
       "      <td>1</td>\n",
       "      <td>24</td>\n",
       "      <td>BUS</td>\n",
       "      <td>7169</td>\n",
       "      <td>NW 23rd &amp; Thurman</td>\n",
       "      <td>1846</td>\n",
       "      <td>NE Fremont &amp; M L King</td>\n",
       "      <td>LINESTRING (-122.69886 45.53575, -122.69888 45...</td>\n",
       "      <td>24 to 6</td>\n",
       "    </tr>\n",
       "    <tr>\n",
       "      <th>3</th>\n",
       "      <td>0</td>\n",
       "      <td>4785</td>\n",
       "      <td>1426</td>\n",
       "      <td>2352</td>\n",
       "      <td>1007</td>\n",
       "      <td>1996.076433</td>\n",
       "      <td>3</td>\n",
       "      <td>6</td>\n",
       "      <td>BUS</td>\n",
       "      <td>5910</td>\n",
       "      <td>NE M L King &amp; Fremont</td>\n",
       "      <td>1026</td>\n",
       "      <td>Jantzen Beach Main Stop</td>\n",
       "      <td>LINESTRING (-122.66153 45.54816, -122.66153 45...</td>\n",
       "      <td>24 to 6</td>\n",
       "    </tr>\n",
       "    <tr>\n",
       "      <th>6</th>\n",
       "      <td>1</td>\n",
       "      <td>5112</td>\n",
       "      <td>1508</td>\n",
       "      <td>3205</td>\n",
       "      <td>399</td>\n",
       "      <td>2107.343015</td>\n",
       "      <td>1</td>\n",
       "      <td>77</td>\n",
       "      <td>BUS</td>\n",
       "      <td>14032</td>\n",
       "      <td>NW Thurman &amp; 23rd</td>\n",
       "      <td>4042</td>\n",
       "      <td>NE Multnomah &amp; Grand</td>\n",
       "      <td>LINESTRING (-122.69836 45.53550, -122.69680 45...</td>\n",
       "      <td>77 to 6</td>\n",
       "    </tr>\n",
       "  </tbody>\n",
       "</table>\n",
       "</div>"
      ],
      "text/plain": [
       "   itin_idx  totalTime  walkTime  transitTime  waitingTime  walkDistance  \\\n",
       "1         0       4785      1426         2352         1007   1996.076433   \n",
       "3         0       4785      1426         2352         1007   1996.076433   \n",
       "6         1       5112      1508         3205          399   2107.343015   \n",
       "\n",
       "   leg_id route_id mode fromStopCode               fromName toStopCode  \\\n",
       "1       1       24  BUS         7169      NW 23rd & Thurman       1846   \n",
       "3       3        6  BUS         5910  NE M L King & Fremont       1026   \n",
       "6       1       77  BUS        14032      NW Thurman & 23rd       4042   \n",
       "\n",
       "                    toName                                        legGeometry  \\\n",
       "1    NE Fremont & M L King  LINESTRING (-122.69886 45.53575, -122.69888 45...   \n",
       "3  Jantzen Beach Main Stop  LINESTRING (-122.66153 45.54816, -122.66153 45...   \n",
       "6     NE Multnomah & Grand  LINESTRING (-122.69836 45.53550, -122.69680 45...   \n",
       "\n",
       "  route_id_combo  \n",
       "1        24 to 6  \n",
       "3        24 to 6  \n",
       "6        77 to 6  "
      ]
     },
     "execution_count": 6,
     "metadata": {},
     "output_type": "execute_result"
    }
   ],
   "source": [
    "itinerary_routes_reduced"
   ]
  },
  {
   "cell_type": "code",
   "execution_count": 10,
   "metadata": {},
   "outputs": [],
   "source": [
    "itinerary_routes_reduced['route_id'] = itinerary_routes_reduced['route_id'].astype(int)"
   ]
  },
  {
   "cell_type": "code",
   "execution_count": 5,
   "metadata": {},
   "outputs": [
    {
     "data": {
      "text/html": [
       "<div>\n",
       "<style scoped>\n",
       "    .dataframe tbody tr th:only-of-type {\n",
       "        vertical-align: middle;\n",
       "    }\n",
       "\n",
       "    .dataframe tbody tr th {\n",
       "        vertical-align: top;\n",
       "    }\n",
       "\n",
       "    .dataframe thead th {\n",
       "        text-align: right;\n",
       "    }\n",
       "</style>\n",
       "<table border=\"1\" class=\"dataframe\">\n",
       "  <thead>\n",
       "    <tr style=\"text-align: right;\">\n",
       "      <th></th>\n",
       "      <th>route_id</th>\n",
       "      <th>agency_id</th>\n",
       "      <th>route_short_name</th>\n",
       "      <th>route_long_name</th>\n",
       "      <th>route_type</th>\n",
       "      <th>route_url</th>\n",
       "      <th>route_color</th>\n",
       "      <th>route_text_color</th>\n",
       "      <th>route_sort_order</th>\n",
       "    </tr>\n",
       "  </thead>\n",
       "  <tbody>\n",
       "    <tr>\n",
       "      <th>0</th>\n",
       "      <td>1</td>\n",
       "      <td>TRIMET</td>\n",
       "      <td>1</td>\n",
       "      <td>Vermont</td>\n",
       "      <td>3</td>\n",
       "      <td>https://trimet.org/schedules/r001.htm</td>\n",
       "      <td>NaN</td>\n",
       "      <td>NaN</td>\n",
       "      <td>400</td>\n",
       "    </tr>\n",
       "    <tr>\n",
       "      <th>1</th>\n",
       "      <td>2</td>\n",
       "      <td>TRIMET</td>\n",
       "      <td>FX2</td>\n",
       "      <td>Division</td>\n",
       "      <td>3</td>\n",
       "      <td>https://trimet.org/schedules/r002.htm</td>\n",
       "      <td>61A60E</td>\n",
       "      <td>FFFFFF</td>\n",
       "      <td>500</td>\n",
       "    </tr>\n",
       "  </tbody>\n",
       "</table>\n",
       "</div>"
      ],
      "text/plain": [
       "   route_id agency_id route_short_name route_long_name  route_type  \\\n",
       "0         1    TRIMET                1         Vermont           3   \n",
       "1         2    TRIMET              FX2        Division           3   \n",
       "\n",
       "                               route_url route_color route_text_color  \\\n",
       "0  https://trimet.org/schedules/r001.htm         NaN              NaN   \n",
       "1  https://trimet.org/schedules/r002.htm      61A60E           FFFFFF   \n",
       "\n",
       "   route_sort_order  \n",
       "0               400  \n",
       "1               500  "
      ]
     },
     "execution_count": 5,
     "metadata": {},
     "output_type": "execute_result"
    }
   ],
   "source": [
    "gtfs_routes = pd.read_csv(\"gtfs/routes.txt\")\n",
    "gtfs_routes.head(2)"
   ]
  },
  {
   "cell_type": "code",
   "execution_count": 13,
   "metadata": {},
   "outputs": [
    {
     "data": {
      "text/html": [
       "<div>\n",
       "<style scoped>\n",
       "    .dataframe tbody tr th:only-of-type {\n",
       "        vertical-align: middle;\n",
       "    }\n",
       "\n",
       "    .dataframe tbody tr th {\n",
       "        vertical-align: top;\n",
       "    }\n",
       "\n",
       "    .dataframe thead th {\n",
       "        text-align: right;\n",
       "    }\n",
       "</style>\n",
       "<table border=\"1\" class=\"dataframe\">\n",
       "  <thead>\n",
       "    <tr style=\"text-align: right;\">\n",
       "      <th></th>\n",
       "      <th>itin_idx</th>\n",
       "      <th>totalTime</th>\n",
       "      <th>walkTime</th>\n",
       "      <th>transitTime</th>\n",
       "      <th>waitingTime</th>\n",
       "      <th>walkDistance</th>\n",
       "      <th>leg_id</th>\n",
       "      <th>route_id</th>\n",
       "      <th>mode</th>\n",
       "      <th>fromStopCode</th>\n",
       "      <th>fromName</th>\n",
       "      <th>toStopCode</th>\n",
       "      <th>toName</th>\n",
       "      <th>legGeometry</th>\n",
       "      <th>route_id_combo</th>\n",
       "      <th>route_long_name</th>\n",
       "    </tr>\n",
       "  </thead>\n",
       "  <tbody>\n",
       "    <tr>\n",
       "      <th>0</th>\n",
       "      <td>0</td>\n",
       "      <td>4785</td>\n",
       "      <td>1426</td>\n",
       "      <td>2352</td>\n",
       "      <td>1007</td>\n",
       "      <td>1996.076433</td>\n",
       "      <td>1</td>\n",
       "      <td>24</td>\n",
       "      <td>BUS</td>\n",
       "      <td>7169</td>\n",
       "      <td>NW 23rd &amp; Thurman</td>\n",
       "      <td>1846</td>\n",
       "      <td>NE Fremont &amp; M L King</td>\n",
       "      <td>LINESTRING (-122.69886 45.53575, -122.69888 45...</td>\n",
       "      <td>24 to 6</td>\n",
       "      <td>Fremont/NW 18th</td>\n",
       "    </tr>\n",
       "    <tr>\n",
       "      <th>1</th>\n",
       "      <td>0</td>\n",
       "      <td>4785</td>\n",
       "      <td>1426</td>\n",
       "      <td>2352</td>\n",
       "      <td>1007</td>\n",
       "      <td>1996.076433</td>\n",
       "      <td>3</td>\n",
       "      <td>6</td>\n",
       "      <td>BUS</td>\n",
       "      <td>5910</td>\n",
       "      <td>NE M L King &amp; Fremont</td>\n",
       "      <td>1026</td>\n",
       "      <td>Jantzen Beach Main Stop</td>\n",
       "      <td>LINESTRING (-122.66153 45.54816, -122.66153 45...</td>\n",
       "      <td>24 to 6</td>\n",
       "      <td>Martin Luther King Jr Blvd</td>\n",
       "    </tr>\n",
       "    <tr>\n",
       "      <th>2</th>\n",
       "      <td>1</td>\n",
       "      <td>5112</td>\n",
       "      <td>1508</td>\n",
       "      <td>3205</td>\n",
       "      <td>399</td>\n",
       "      <td>2107.343015</td>\n",
       "      <td>1</td>\n",
       "      <td>77</td>\n",
       "      <td>BUS</td>\n",
       "      <td>14032</td>\n",
       "      <td>NW Thurman &amp; 23rd</td>\n",
       "      <td>4042</td>\n",
       "      <td>NE Multnomah &amp; Grand</td>\n",
       "      <td>LINESTRING (-122.69836 45.53550, -122.69680 45...</td>\n",
       "      <td>77 to 6</td>\n",
       "      <td>Broadway/Halsey</td>\n",
       "    </tr>\n",
       "  </tbody>\n",
       "</table>\n",
       "</div>"
      ],
      "text/plain": [
       "   itin_idx  totalTime  walkTime  transitTime  waitingTime  walkDistance  \\\n",
       "0         0       4785      1426         2352         1007   1996.076433   \n",
       "1         0       4785      1426         2352         1007   1996.076433   \n",
       "2         1       5112      1508         3205          399   2107.343015   \n",
       "\n",
       "   leg_id  route_id mode fromStopCode               fromName toStopCode  \\\n",
       "0       1        24  BUS         7169      NW 23rd & Thurman       1846   \n",
       "1       3         6  BUS         5910  NE M L King & Fremont       1026   \n",
       "2       1        77  BUS        14032      NW Thurman & 23rd       4042   \n",
       "\n",
       "                    toName                                        legGeometry  \\\n",
       "0    NE Fremont & M L King  LINESTRING (-122.69886 45.53575, -122.69888 45...   \n",
       "1  Jantzen Beach Main Stop  LINESTRING (-122.66153 45.54816, -122.66153 45...   \n",
       "2     NE Multnomah & Grand  LINESTRING (-122.69836 45.53550, -122.69680 45...   \n",
       "\n",
       "  route_id_combo             route_long_name  \n",
       "0        24 to 6             Fremont/NW 18th  \n",
       "1        24 to 6  Martin Luther King Jr Blvd  \n",
       "2        77 to 6             Broadway/Halsey  "
      ]
     },
     "execution_count": 13,
     "metadata": {},
     "output_type": "execute_result"
    }
   ],
   "source": [
    "itinerary_routes_long_name = itinerary_routes_reduced.merge(gtfs_routes[['route_id','route_long_name']], how='inner', on='route_id')"
   ]
  },
  {
   "cell_type": "code",
   "execution_count": 24,
   "metadata": {},
   "outputs": [],
   "source": [
    "# Get Unique continents\n",
    "color_labels = itinerary_routes_long_name['route_id'].unique()\n",
    "# List of colors in the color palettes\n",
    "hex_values = sns.color_palette(\"Set2\", len(color_labels)).as_hex()\n",
    "# Map continents to the colors\n",
    "color_map = dict(zip(color_labels, hex_values))"
   ]
  },
  {
   "cell_type": "code",
   "execution_count": 25,
   "metadata": {},
   "outputs": [],
   "source": [
    "itinerary_routes_long_name['route_color'] = itinerary_routes_long_name['route_id'].apply(lambda x: color_map[x])"
   ]
  },
  {
   "cell_type": "code",
   "execution_count": 26,
   "metadata": {},
   "outputs": [],
   "source": [
    "itinerary_routes_long_name['dropdown_route'] = itinerary_routes_long_name.apply(lambda x: str(x['route_id'])+\" - \"+str(x['route_long_name']), axis=1)"
   ]
  },
  {
   "cell_type": "code",
   "execution_count": 27,
   "metadata": {},
   "outputs": [],
   "source": [
    "gdf_points.to_file(\"gis/export/origin_destination_points.geojson\", driver=\"GeoJSON\")\n",
    "client = boto3.client(\"s3\")\n",
    "client.upload_file(\"gis/export/origin_destination_points.geojson\", \"meysohn-sandbox\", \"trimet_trip_planner/origin_destination_points.geojson\",ExtraArgs={'ACL':'public-read'})"
   ]
  },
  {
   "cell_type": "code",
   "execution_count": 28,
   "metadata": {},
   "outputs": [],
   "source": [
    "itineraries_reduced.to_file(\"gis/export/itineraries_reduced.geojson\", driver=\"GeoJSON\")\n",
    "client = boto3.client(\"s3\")\n",
    "client.upload_file(\"gis/export/itineraries_reduced.geojson\", \"meysohn-sandbox\", \"trimet_trip_planner/itineraries_reduced.geojson\",ExtraArgs={'ACL':'public-read'})"
   ]
  },
  {
   "cell_type": "code",
   "execution_count": 29,
   "metadata": {},
   "outputs": [],
   "source": [
    "itinerary_routes_long_name.to_file(\"gis/export/itinerary_routes_long_name.geojson\", driver=\"GeoJSON\")\n",
    "client = boto3.client(\"s3\")\n",
    "client.upload_file(\"gis/export/itinerary_routes_long_name.geojson\", \"meysohn-sandbox\", \"trimet_trip_planner/itinerary_routes_long_name.geojson\",ExtraArgs={'ACL':'public-read'})"
   ]
  },
  {
   "cell_type": "code",
   "execution_count": 20,
   "metadata": {},
   "outputs": [],
   "source": [
    "origin_destination_centriod = LineString(list(gdf_points['points'].to_numpy())).centroid"
   ]
  },
  {
   "cell_type": "code",
   "execution_count": 21,
   "metadata": {},
   "outputs": [
    {
     "data": {
      "text/html": [
       "<div>\n",
       "<style scoped>\n",
       "    .dataframe tbody tr th:only-of-type {\n",
       "        vertical-align: middle;\n",
       "    }\n",
       "\n",
       "    .dataframe tbody tr th {\n",
       "        vertical-align: top;\n",
       "    }\n",
       "\n",
       "    .dataframe thead th {\n",
       "        text-align: right;\n",
       "    }\n",
       "</style>\n",
       "<table border=\"1\" class=\"dataframe\">\n",
       "  <thead>\n",
       "    <tr style=\"text-align: right;\">\n",
       "      <th></th>\n",
       "      <th>id</th>\n",
       "      <th>geometry</th>\n",
       "    </tr>\n",
       "  </thead>\n",
       "  <tbody>\n",
       "    <tr>\n",
       "      <th>0</th>\n",
       "      <td>origin_dest_centroid</td>\n",
       "      <td>POINT (-122.69319 45.57985)</td>\n",
       "    </tr>\n",
       "  </tbody>\n",
       "</table>\n",
       "</div>"
      ],
      "text/plain": [
       "                     id                     geometry\n",
       "0  origin_dest_centroid  POINT (-122.69319 45.57985)"
      ]
     },
     "execution_count": 21,
     "metadata": {},
     "output_type": "execute_result"
    }
   ],
   "source": [
    "origin_destination_centriod_gdf = gpd.GeoDataFrame(pd.DataFrame(['origin_dest_centroid'], columns=['id']),crs=\"EPSG:4326\", geometry=[origin_destination_centriod])\n",
    "origin_destination_centriod_gdf"
   ]
  },
  {
   "cell_type": "code",
   "execution_count": 22,
   "metadata": {},
   "outputs": [],
   "source": [
    "origin_destination_centriod_gdf.to_file(\"gis/export/origin_destination_centriod.geojson\", driver=\"GeoJSON\")\n",
    "client = boto3.client(\"s3\")\n",
    "client.upload_file(\"gis/export/origin_destination_centriod.geojson\", \"meysohn-sandbox\", \"trimet_trip_planner/origin_destination_centriod.geojson\",ExtraArgs={'ACL':'public-read'})"
   ]
  },
  {
   "cell_type": "code",
   "execution_count": null,
   "metadata": {},
   "outputs": [],
   "source": []
  }
 ],
 "metadata": {
  "kernelspec": {
   "display_name": "twitter-news",
   "language": "python",
   "name": "python3"
  },
  "language_info": {
   "codemirror_mode": {
    "name": "ipython",
    "version": 3
   },
   "file_extension": ".py",
   "mimetype": "text/x-python",
   "name": "python",
   "nbconvert_exporter": "python",
   "pygments_lexer": "ipython3",
   "version": "3.10.6"
  },
  "orig_nbformat": 4
 },
 "nbformat": 4,
 "nbformat_minor": 2
}
